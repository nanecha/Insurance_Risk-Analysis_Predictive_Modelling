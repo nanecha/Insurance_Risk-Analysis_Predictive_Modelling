{
 "cells": [
  {
   "cell_type": "markdown",
   "id": "eb7673eb",
   "metadata": {},
   "source": [
    "# A/B Hypothesis Testing (Task-3)\n",
    "Goal: To Statistically validate or reject key hypotheses about risk drivers, which will form the basis of new segmentation strategy  The test covered in this task:\n",
    "-  Independent T-test\n",
    "-  ANOVa- \n",
    "-  Chi-square Test\n",
    "   "
   ]
  },
  {
   "cell_type": "code",
   "execution_count": null,
   "id": "98a3e1aa",
   "metadata": {},
   "outputs": [],
   "source": [
    "# import dependencies \n",
    "\n",
    "# Import necessary libraries\n",
    "import pandas as pd\n",
    "import numpy as np\n",
    "import matplotlib.pyplot as plt\n",
    "import seaborn as sns\n",
    "from scipy import stats\n",
    "import sys\n",
    "sys.path.append('F:/Insurance_Risk-Analysis_Predictive_Modelling/src')\n",
    "from src.data_loader import load_insurance_data\n",
    "import uuid"
   ]
  },
  {
   "cell_type": "code",
   "execution_count": null,
   "id": "49c566ff",
   "metadata": {},
   "outputs": [],
   "source": [
    "# data loading \n",
    "path = 'F:/Insurance_Risk-Analysis_Predictive_Modelling/data/output2.csv'\n",
    "df = load_insurance_data(path)"
   ]
  }
 ],
 "metadata": {
  "kernelspec": {
   "display_name": ".venv",
   "language": "python",
   "name": "python3"
  },
  "language_info": {
   "name": "python",
   "version": "3.12.0"
  }
 },
 "nbformat": 4,
 "nbformat_minor": 5
}
