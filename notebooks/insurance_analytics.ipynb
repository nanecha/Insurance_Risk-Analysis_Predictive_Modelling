{
 "cells": [
  {
   "cell_type": "markdown",
   "id": "bb57ba4d",
   "metadata": {},
   "source": [
    "# Insurance Data Analytics- Exploratory Data Analysi (EDA)\n",
    "  - Goal: To Develop a foundational understanding of the data, assess its quality, and uncover initial patterns in risk and profitability\n"
   ]
  },
  {
   "cell_type": "markdown",
   "id": "5d5dc935",
   "metadata": {},
   "source": [
    "##🛠️ Setup & Imports\n",
    "We load the necessary packages and prepare the notebook for data profiling and EDA."
   ]
  },
  {
   "cell_type": "code",
   "execution_count": 1,
   "id": "0354a9a1",
   "metadata": {},
   "outputs": [
    {
     "ename": "ModuleNotFoundError",
     "evalue": "No module named 'seaborn'",
     "output_type": "error",
     "traceback": [
      "\u001b[31m---------------------------------------------------------------------------\u001b[39m",
      "\u001b[31mModuleNotFoundError\u001b[39m                       Traceback (most recent call last)",
      "\u001b[36mCell\u001b[39m\u001b[36m \u001b[39m\u001b[32mIn[1]\u001b[39m\u001b[32m, line 5\u001b[39m\n\u001b[32m      3\u001b[39m \u001b[38;5;28;01mimport\u001b[39;00m\u001b[38;5;250m \u001b[39m\u001b[34;01mmatplotlib\u001b[39;00m\u001b[34;01m.\u001b[39;00m\u001b[34;01mpyplot\u001b[39;00m\u001b[38;5;250m \u001b[39m\u001b[38;5;28;01mas\u001b[39;00m\u001b[38;5;250m \u001b[39m\u001b[34;01mplt\u001b[39;00m\n\u001b[32m      4\u001b[39m \u001b[38;5;28;01mimport\u001b[39;00m\u001b[38;5;250m \u001b[39m\u001b[34;01mnumpy\u001b[39;00m\u001b[38;5;250m \u001b[39m\u001b[38;5;28;01mas\u001b[39;00m\u001b[38;5;250m \u001b[39m\u001b[34;01mnp\u001b[39;00m \n\u001b[32m----> \u001b[39m\u001b[32m5\u001b[39m \u001b[38;5;28;01mimport\u001b[39;00m\u001b[38;5;250m \u001b[39m\u001b[34;01mseaborn\u001b[39;00m\u001b[38;5;250m \u001b[39m\u001b[38;5;28;01mas\u001b[39;00m\u001b[38;5;250m \u001b[39m\u001b[34;01msns\u001b[39;00m\n\u001b[32m      6\u001b[39m \u001b[38;5;28;01mimport\u001b[39;00m\u001b[38;5;250m \u001b[39m\u001b[34;01muuid\u001b[39;00m\n\u001b[32m      7\u001b[39m \u001b[38;5;28;01mfrom\u001b[39;00m\u001b[38;5;250m \u001b[39m\u001b[34;01mdatetime\u001b[39;00m\u001b[38;5;250m \u001b[39m\u001b[38;5;28;01mimport\u001b[39;00m datetime\n",
      "\u001b[31mModuleNotFoundError\u001b[39m: No module named 'seaborn'"
     ]
    }
   ],
   "source": [
    "# Import Dependencies \n",
    "import pandas as pd\n",
    "import matplotlib.pyplot as plt\n",
    "import numpy as np \n",
    "import seaborn as sns\n",
    "import uuid\n",
    "from datetime import datetime\n",
    "#from IPython.display import display\n",
    "import csv\n",
    "from tabulate import tabulate\n",
    "# Set plot style for better visualization\n",
    "#plt.style.use('seaborn')\n",
    "#sns.set_palette(\"deep\")"
   ]
  },
  {
   "cell_type": "markdown",
   "id": "faa47fcd",
   "metadata": {},
   "source": [
    "## 1. Data Understanding and summarization \n",
    "   - loading of Data\n",
    "   - Understanding of data"
   ]
  },
  {
   "cell_type": "code",
   "execution_count": 6,
   "id": "86488787",
   "metadata": {},
   "outputs": [
    {
     "data": {
      "text/html": [
       "<div>\n",
       "<style scoped>\n",
       "    .dataframe tbody tr th:only-of-type {\n",
       "        vertical-align: middle;\n",
       "    }\n",
       "\n",
       "    .dataframe tbody tr th {\n",
       "        vertical-align: top;\n",
       "    }\n",
       "\n",
       "    .dataframe thead th {\n",
       "        text-align: right;\n",
       "    }\n",
       "</style>\n",
       "<table border=\"1\" class=\"dataframe\">\n",
       "  <thead>\n",
       "    <tr style=\"text-align: right;\">\n",
       "      <th></th>\n",
       "      <th>UnderwrittenCoverID</th>\n",
       "      <th>PolicyID</th>\n",
       "      <th>TransactionMonth</th>\n",
       "      <th>IsVATRegistered</th>\n",
       "      <th>Citizenship</th>\n",
       "      <th>LegalType</th>\n",
       "      <th>Title</th>\n",
       "      <th>Language</th>\n",
       "      <th>Bank</th>\n",
       "      <th>AccountType</th>\n",
       "      <th>...</th>\n",
       "      <th>ExcessSelected</th>\n",
       "      <th>CoverCategory</th>\n",
       "      <th>CoverType</th>\n",
       "      <th>CoverGroup</th>\n",
       "      <th>Section</th>\n",
       "      <th>Product</th>\n",
       "      <th>StatutoryClass</th>\n",
       "      <th>StatutoryRiskType</th>\n",
       "      <th>TotalPremium</th>\n",
       "      <th>TotalClaims</th>\n",
       "    </tr>\n",
       "  </thead>\n",
       "  <tbody>\n",
       "    <tr>\n",
       "      <th>0</th>\n",
       "      <td>145249</td>\n",
       "      <td>12827</td>\n",
       "      <td>2015-03-01 00:00:00</td>\n",
       "      <td>True</td>\n",
       "      <td></td>\n",
       "      <td>Close Corporation</td>\n",
       "      <td>Mr</td>\n",
       "      <td>English</td>\n",
       "      <td>First National Bank</td>\n",
       "      <td>Current account</td>\n",
       "      <td>...</td>\n",
       "      <td>Mobility - Windscreen</td>\n",
       "      <td>Windscreen</td>\n",
       "      <td>Windscreen</td>\n",
       "      <td>Comprehensive - Taxi</td>\n",
       "      <td>Motor Comprehensive</td>\n",
       "      <td>Mobility Metered Taxis: Monthly</td>\n",
       "      <td>Commercial</td>\n",
       "      <td>IFRS Constant</td>\n",
       "      <td>21.929825</td>\n",
       "      <td>0.0</td>\n",
       "    </tr>\n",
       "    <tr>\n",
       "      <th>1</th>\n",
       "      <td>145249</td>\n",
       "      <td>12827</td>\n",
       "      <td>2015-05-01 00:00:00</td>\n",
       "      <td>True</td>\n",
       "      <td></td>\n",
       "      <td>Close Corporation</td>\n",
       "      <td>Mr</td>\n",
       "      <td>English</td>\n",
       "      <td>First National Bank</td>\n",
       "      <td>Current account</td>\n",
       "      <td>...</td>\n",
       "      <td>Mobility - Windscreen</td>\n",
       "      <td>Windscreen</td>\n",
       "      <td>Windscreen</td>\n",
       "      <td>Comprehensive - Taxi</td>\n",
       "      <td>Motor Comprehensive</td>\n",
       "      <td>Mobility Metered Taxis: Monthly</td>\n",
       "      <td>Commercial</td>\n",
       "      <td>IFRS Constant</td>\n",
       "      <td>21.929825</td>\n",
       "      <td>0.0</td>\n",
       "    </tr>\n",
       "    <tr>\n",
       "      <th>2</th>\n",
       "      <td>145249</td>\n",
       "      <td>12827</td>\n",
       "      <td>2015-07-01 00:00:00</td>\n",
       "      <td>True</td>\n",
       "      <td></td>\n",
       "      <td>Close Corporation</td>\n",
       "      <td>Mr</td>\n",
       "      <td>English</td>\n",
       "      <td>First National Bank</td>\n",
       "      <td>Current account</td>\n",
       "      <td>...</td>\n",
       "      <td>Mobility - Windscreen</td>\n",
       "      <td>Windscreen</td>\n",
       "      <td>Windscreen</td>\n",
       "      <td>Comprehensive - Taxi</td>\n",
       "      <td>Motor Comprehensive</td>\n",
       "      <td>Mobility Metered Taxis: Monthly</td>\n",
       "      <td>Commercial</td>\n",
       "      <td>IFRS Constant</td>\n",
       "      <td>0.000000</td>\n",
       "      <td>0.0</td>\n",
       "    </tr>\n",
       "    <tr>\n",
       "      <th>3</th>\n",
       "      <td>145255</td>\n",
       "      <td>12827</td>\n",
       "      <td>2015-05-01 00:00:00</td>\n",
       "      <td>True</td>\n",
       "      <td></td>\n",
       "      <td>Close Corporation</td>\n",
       "      <td>Mr</td>\n",
       "      <td>English</td>\n",
       "      <td>First National Bank</td>\n",
       "      <td>Current account</td>\n",
       "      <td>...</td>\n",
       "      <td>Mobility - Metered Taxis - R2000</td>\n",
       "      <td>Own damage</td>\n",
       "      <td>Own Damage</td>\n",
       "      <td>Comprehensive - Taxi</td>\n",
       "      <td>Motor Comprehensive</td>\n",
       "      <td>Mobility Metered Taxis: Monthly</td>\n",
       "      <td>Commercial</td>\n",
       "      <td>IFRS Constant</td>\n",
       "      <td>512.848070</td>\n",
       "      <td>0.0</td>\n",
       "    </tr>\n",
       "    <tr>\n",
       "      <th>4</th>\n",
       "      <td>145255</td>\n",
       "      <td>12827</td>\n",
       "      <td>2015-07-01 00:00:00</td>\n",
       "      <td>True</td>\n",
       "      <td></td>\n",
       "      <td>Close Corporation</td>\n",
       "      <td>Mr</td>\n",
       "      <td>English</td>\n",
       "      <td>First National Bank</td>\n",
       "      <td>Current account</td>\n",
       "      <td>...</td>\n",
       "      <td>Mobility - Metered Taxis - R2000</td>\n",
       "      <td>Own damage</td>\n",
       "      <td>Own Damage</td>\n",
       "      <td>Comprehensive - Taxi</td>\n",
       "      <td>Motor Comprehensive</td>\n",
       "      <td>Mobility Metered Taxis: Monthly</td>\n",
       "      <td>Commercial</td>\n",
       "      <td>IFRS Constant</td>\n",
       "      <td>0.000000</td>\n",
       "      <td>0.0</td>\n",
       "    </tr>\n",
       "  </tbody>\n",
       "</table>\n",
       "<p>5 rows × 52 columns</p>\n",
       "</div>"
      ],
      "text/plain": [
       "   UnderwrittenCoverID  PolicyID     TransactionMonth  IsVATRegistered  \\\n",
       "0               145249     12827  2015-03-01 00:00:00             True   \n",
       "1               145249     12827  2015-05-01 00:00:00             True   \n",
       "2               145249     12827  2015-07-01 00:00:00             True   \n",
       "3               145255     12827  2015-05-01 00:00:00             True   \n",
       "4               145255     12827  2015-07-01 00:00:00             True   \n",
       "\n",
       "  Citizenship          LegalType Title Language                 Bank  \\\n",
       "0              Close Corporation    Mr  English  First National Bank   \n",
       "1              Close Corporation    Mr  English  First National Bank   \n",
       "2              Close Corporation    Mr  English  First National Bank   \n",
       "3              Close Corporation    Mr  English  First National Bank   \n",
       "4              Close Corporation    Mr  English  First National Bank   \n",
       "\n",
       "       AccountType  ...                    ExcessSelected CoverCategory  \\\n",
       "0  Current account  ...             Mobility - Windscreen    Windscreen   \n",
       "1  Current account  ...             Mobility - Windscreen    Windscreen   \n",
       "2  Current account  ...             Mobility - Windscreen    Windscreen   \n",
       "3  Current account  ...  Mobility - Metered Taxis - R2000    Own damage   \n",
       "4  Current account  ...  Mobility - Metered Taxis - R2000    Own damage   \n",
       "\n",
       "    CoverType            CoverGroup              Section  \\\n",
       "0  Windscreen  Comprehensive - Taxi  Motor Comprehensive   \n",
       "1  Windscreen  Comprehensive - Taxi  Motor Comprehensive   \n",
       "2  Windscreen  Comprehensive - Taxi  Motor Comprehensive   \n",
       "3  Own Damage  Comprehensive - Taxi  Motor Comprehensive   \n",
       "4  Own Damage  Comprehensive - Taxi  Motor Comprehensive   \n",
       "\n",
       "                           Product StatutoryClass StatutoryRiskType  \\\n",
       "0  Mobility Metered Taxis: Monthly     Commercial     IFRS Constant   \n",
       "1  Mobility Metered Taxis: Monthly     Commercial     IFRS Constant   \n",
       "2  Mobility Metered Taxis: Monthly     Commercial     IFRS Constant   \n",
       "3  Mobility Metered Taxis: Monthly     Commercial     IFRS Constant   \n",
       "4  Mobility Metered Taxis: Monthly     Commercial     IFRS Constant   \n",
       "\n",
       "   TotalPremium TotalClaims  \n",
       "0     21.929825         0.0  \n",
       "1     21.929825         0.0  \n",
       "2      0.000000         0.0  \n",
       "3    512.848070         0.0  \n",
       "4      0.000000         0.0  \n",
       "\n",
       "[5 rows x 52 columns]"
      ]
     },
     "execution_count": 6,
     "metadata": {},
     "output_type": "execute_result"
    }
   ],
   "source": [
    "# Data loading  and Displaying same column \n",
    "df = pd.read_csv('F:/Insurance_Risk-Analysis_Predictive_Modelling/data/output2.csv', dtype={32: object, 37: object})\n",
    "df.head()\n",
    "#df = pd.read_csv('F:/Insurance_Risk-Analysis_Predictive_Modelling/data/output2.csv', low_memory=False)\n",
    "\n"
   ]
  },
  {
   "cell_type": "markdown",
   "id": "f12af829",
   "metadata": {},
   "source": [
    "## 2. Basic Statistical summarization\n",
    "  - Data structure (to know  Data types in each column)"
   ]
  },
  {
   "cell_type": "code",
   "execution_count": null,
   "id": "793c9ee5",
   "metadata": {},
   "outputs": [
    {
     "name": "stdout",
     "output_type": "stream",
     "text": [
      "=== Data Structure ===\n",
      "<class 'pandas.core.frame.DataFrame'>\n",
      "RangeIndex: 1000098 entries, 0 to 1000097\n",
      "Data columns (total 52 columns):\n",
      " #   Column                    Non-Null Count    Dtype  \n",
      "---  ------                    --------------    -----  \n",
      " 0   UnderwrittenCoverID       1000098 non-null  int64  \n",
      " 1   PolicyID                  1000098 non-null  int64  \n",
      " 2   TransactionMonth          1000098 non-null  object \n",
      " 3   IsVATRegistered           1000098 non-null  bool   \n",
      " 4   Citizenship               1000098 non-null  object \n",
      " 5   LegalType                 1000098 non-null  object \n",
      " 6   Title                     1000098 non-null  object \n",
      " 7   Language                  1000098 non-null  object \n",
      " 8   Bank                      854137 non-null   object \n",
      " 9   AccountType               959866 non-null   object \n",
      " 10  MaritalStatus             991839 non-null   object \n",
      " 11  Gender                    990562 non-null   object \n",
      " 12  Country                   1000098 non-null  object \n",
      " 13  Province                  1000098 non-null  object \n",
      " 14  PostalCode                1000098 non-null  int64  \n",
      " 15  MainCrestaZone            1000098 non-null  object \n",
      " 16  SubCrestaZone             1000098 non-null  object \n",
      " 17  ItemType                  1000098 non-null  object \n",
      " 18  mmcode                    999546 non-null   float64\n",
      " 19  VehicleType               999546 non-null   object \n",
      " 20  RegistrationYear          1000098 non-null  int64  \n",
      " 21  make                      999546 non-null   object \n",
      " 22  Model                     999546 non-null   object \n",
      " 23  Cylinders                 999546 non-null   float64\n",
      " 24  cubiccapacity             999546 non-null   float64\n",
      " 25  kilowatts                 999546 non-null   float64\n",
      " 26  bodytype                  999546 non-null   object \n",
      " 27  NumberOfDoors             999546 non-null   float64\n",
      " 28  VehicleIntroDate          999546 non-null   object \n",
      " 29  CustomValueEstimate       220456 non-null   float64\n",
      " 30  AlarmImmobiliser          1000098 non-null  object \n",
      " 31  TrackingDevice            1000098 non-null  object \n",
      " 32  CapitalOutstanding        1000096 non-null  object \n",
      " 33  NewVehicle                846803 non-null   object \n",
      " 34  WrittenOff                358197 non-null   object \n",
      " 35  Rebuilt                   358197 non-null   object \n",
      " 36  Converted                 358197 non-null   object \n",
      " 37  CrossBorder               698 non-null      object \n",
      " 38  NumberOfVehiclesInFleet   0 non-null        float64\n",
      " 39  SumInsured                1000098 non-null  float64\n",
      " 40  TermFrequency             1000098 non-null  object \n",
      " 41  CalculatedPremiumPerTerm  1000098 non-null  float64\n",
      " 42  ExcessSelected            1000098 non-null  object \n",
      " 43  CoverCategory             1000098 non-null  object \n",
      " 44  CoverType                 1000098 non-null  object \n",
      " 45  CoverGroup                1000098 non-null  object \n",
      " 46  Section                   1000098 non-null  object \n",
      " 47  Product                   1000098 non-null  object \n",
      " 48  StatutoryClass            1000098 non-null  object \n",
      " 49  StatutoryRiskType         1000098 non-null  object \n",
      " 50  TotalPremium              1000098 non-null  float64\n",
      " 51  TotalClaims               1000098 non-null  float64\n",
      "dtypes: bool(1), float64(11), int64(4), object(36)\n",
      "memory usage: 390.1+ MB\n",
      "None\n"
     ]
    }
   ],
   "source": [
    "# Print the column names and data types\n",
    "print(\"=== Data Structure ===\")\n",
    "print(df.info())\n"
   ]
  },
  {
   "cell_type": "markdown",
   "id": "63ed30ce",
   "metadata": {},
   "source": [
    "- Descriptive Statistics"
   ]
  },
  {
   "cell_type": "code",
   "execution_count": null,
   "id": "aaeae9d3",
   "metadata": {},
   "outputs": [
    {
     "name": "stdout",
     "output_type": "stream",
     "text": [
      "\n",
      "=== Descriptive Statistics ===\n",
      "       TotalPremium   TotalClaims    SumInsured  CustomValueEstimate  \\\n",
      "count  1.000098e+06  1.000098e+06  1.000098e+06         2.204560e+05   \n",
      "mean   6.190550e+01  6.486119e+01  6.041727e+05         2.255311e+05   \n",
      "std    2.302845e+02  2.384075e+03  1.508332e+06         5.645157e+05   \n",
      "min   -7.825768e+02 -1.200241e+04  1.000000e-02         2.000000e+04   \n",
      "25%    0.000000e+00  0.000000e+00  5.000000e+03         1.350000e+05   \n",
      "50%    2.178333e+00  0.000000e+00  7.500000e+03         2.200000e+05   \n",
      "75%    2.192982e+01  0.000000e+00  2.500000e+05         2.800000e+05   \n",
      "max    6.528260e+04  3.930921e+05  1.263620e+07         2.655000e+07   \n",
      "\n",
      "           Cylinders  cubiccapacity      kilowatts  NumberOfDoors  \n",
      "count  999546.000000  999546.000000  999546.000000  999546.000000  \n",
      "mean        4.046642    2466.743258      97.207919       4.019250  \n",
      "std         0.294020     442.800640      19.393256       0.468314  \n",
      "min         0.000000       0.000000       0.000000       0.000000  \n",
      "25%         4.000000    2237.000000      75.000000       4.000000  \n",
      "50%         4.000000    2694.000000     111.000000       4.000000  \n",
      "75%         4.000000    2694.000000     111.000000       4.000000  \n",
      "max        10.000000   12880.000000     309.000000       6.000000  \n"
     ]
    }
   ],
   "source": [
    "print(\"\\n=== Descriptive Statistics ===\")\n",
    "numerical_cols = ['TotalPremium', 'TotalClaims', 'SumInsured', 'CustomValueEstimate', \n",
    "                  'Cylinders', 'cubiccapacity', 'kilowatts' , 'NumberOfDoors']\n",
    "print(df[numerical_cols].describe())"
   ]
  },
  {
   "cell_type": "markdown",
   "id": "4a412fb3",
   "metadata": {},
   "source": [
    "##   3.Data Quality Assasement\n",
    " -  missing value in each document\n",
    " -  Duplicates"
   ]
  },
  {
   "cell_type": "code",
   "execution_count": null,
   "id": "1154c87d",
   "metadata": {},
   "outputs": [
    {
     "name": "stdout",
     "output_type": "stream",
     "text": [
      "\n",
      "=== Missing Values ===\n",
      "Bank                        145961\n",
      "AccountType                  40232\n",
      "MaritalStatus                 8259\n",
      "Gender                        9536\n",
      "mmcode                         552\n",
      "VehicleType                    552\n",
      "make                           552\n",
      "Model                          552\n",
      "Cylinders                      552\n",
      "cubiccapacity                  552\n",
      "kilowatts                      552\n",
      "bodytype                       552\n",
      "NumberOfDoors                  552\n",
      "VehicleIntroDate               552\n",
      "CustomValueEstimate         779642\n",
      "CapitalOutstanding               2\n",
      "NewVehicle                  153295\n",
      "WrittenOff                  641901\n",
      "Rebuilt                     641901\n",
      "Converted                   641901\n",
      "CrossBorder                 999400\n",
      "NumberOfVehiclesInFleet    1000098\n",
      "dtype: int64\n",
      "Number of duplicates: 0\n"
     ]
    }
   ],
   "source": [
    "# Data Quality Assessment\n",
    "print(\"\\n=== Missing Values ===\")\n",
    "missing_values = df.isnull().sum()\n",
    "print(missing_values[missing_values > 0])\n",
    "# Check for duplicates\n",
    "print(\"Number of duplicates:\", df.duplicated().sum())"
   ]
  },
  {
   "cell_type": "markdown",
   "id": "67215a50",
   "metadata": {},
   "source": [
    "## 4. Key column Calculation \n",
    "-  Total claim:is total claim request due to an insured event\n",
    "-  Total Premium: is the amount of total policy holder pays for insurance coverage  \n",
    "-  Over all loss ratio: indicating profitability or TotalClaim/TotalPremium"
   ]
  },
  {
   "cell_type": "code",
   "execution_count": null,
   "id": "64e9819e",
   "metadata": {},
   "outputs": [
    {
     "name": "stdout",
     "output_type": "stream",
     "text": [
      "Key calculation over same Important column \n",
      "===================================================\n",
      "               Metric         Value   Formatted\n",
      "0        Total Claims  6.486755e+07  64,867,546\n",
      "1       Total Premium  6.191156e+07  61,911,563\n",
      "2  Overall Loss Ratio  1.047745e+00     104.77%\n"
     ]
    }
   ],
   "source": [
    "# Calculation of Tatal Claim , total premium ans over all ratio\n",
    "total_claim     = df['TotalClaims'].sum()\n",
    "total_premium   = df['TotalPremium'].sum()\n",
    "loss_ratio      = total_claim / total_premium\n",
    "summary = pd.DataFrame({\n",
    "    'Metric': [\n",
    "        'Total Claims',\n",
    "        'Total Premium',\n",
    "        'Overall Loss Ratio'\n",
    "    ],\n",
    "    'Value': [\n",
    "        total_claim,\n",
    "        total_premium,\n",
    "        loss_ratio\n",
    "    ]\n",
    "})\n",
    "\n",
    "# Optionally format the loss ratio as a percentage\n",
    "summary = pd.DataFrame({\n",
    "    'Metric':    ['Total Claims', 'Total Premium', 'Overall Loss Ratio'],\n",
    "    'Value':     [total_claim, total_premium, loss_ratio],\n",
    "    'Formatted': [\n",
    "        f\"{total_claim:,.0f}\",\n",
    "        f\"{total_premium:,.0f}\",\n",
    "        f\"{loss_ratio:.2%}\"\n",
    "    ]\n",
    "})\n",
    "print(\"Key calculation over same Important column \")\n",
    "print(\"===================================================\")\n",
    "print(summary)"
   ]
  },
  {
   "cell_type": "code",
   "execution_count": 9,
   "id": "b10f6ac2",
   "metadata": {},
   "outputs": [
    {
     "name": "stdout",
     "output_type": "stream",
     "text": [
      "key column calculation===\n",
      "Total cLaims = 64867546.17070174\n",
      "Total premium = 61911562.69643226\n",
      "over all loss ratio = 1.0477452570332202\n"
     ]
    }
   ],
   "source": [
    "# key calculation \n",
    "print('key column calculation===')\n",
    "total_claim =df['TotalClaims'].sum()\n",
    "print(\"Total cLaims\", \"=\",total_claim)\n",
    "total_Premium = df['TotalPremium'].sum()\n",
    "print(\"Total premium\", \"=\",total_Premium)\n",
    "loss_ratio= total_claim/total_Premium\n",
    "print(\"over all loss ratio\",\"=\",loss_ratio)\n"
   ]
  },
  {
   "cell_type": "markdown",
   "id": "9a20e711",
   "metadata": {},
   "source": [
    "## 5. Loss Ratio by Province, VehicleType, and Gender\n",
    "-  loss Ratio By Province \n",
    "-  loss Ratio By VehicleType\n",
    "-  Loss Ratio BY Gender"
   ]
  },
  {
   "cell_type": "code",
   "execution_count": null,
   "id": "3416b0b9",
   "metadata": {},
   "outputs": [
    {
     "name": "stdout",
     "output_type": "stream",
     "text": [
      "\n",
      "Overall Loss Ratio: 1.05\n",
      "\n",
      "=== Loss Ratio by Gender ===\n",
      "       Gender  LossRatio\n",
      "       Female   0.821879\n",
      "         Male   0.883910\n",
      "Not specified   1.059311\n"
     ]
    }
   ],
   "source": [
    "# Calculate Overall Loss Ratio\n",
    "print(f\"\\nOverall Loss Ratio: {loss_ratio:.2f}\")\n",
    "\n",
    "# Loss Ratio by Province, VehicleType, and Gender\n",
    "loss_ratio_by_province = df.groupby('Province').apply(\n",
    "    lambda x: x['TotalClaims'].sum() / x['TotalPremium'].sum() if x['TotalPremium'].sum() != 0 else 0,\n",
    "    include_groups=False\n",
    ").reset_index(name='LossRatio')\n",
    "loss_ratio_by_vehicle = df.groupby('VehicleType').apply(\n",
    "    lambda x: x['TotalClaims'].sum() / x['TotalPremium'].sum() if x['TotalPremium'].sum() != 0 else 0,\n",
    "    include_groups=False\n",
    ").reset_index(name='LossRatio')\n",
    "loss_ratio_by_gender = df.groupby('Gender').apply(\n",
    "    lambda x: x['TotalClaims'].sum() / x['TotalPremium'].sum() if x['TotalPremium'].sum() != 0 else 0,\n",
    "    include_groups=False\n",
    ").reset_index(name='LossRatio')\n",
    "\n",
    "table_data = []\n",
    "table_data.extend([[\"Province\", row['Province'], f\"{row['LossRatio']:.2f}\"] \n",
    "                   for _, row in loss_ratio_by_province.iterrows()])\n",
    "table_data.extend([[\"VehicleType\", row['VehicleType'], f\"{row['LossRatio']:.2f}\"] \n",
    "                   for _, row in loss_ratio_by_vehicle.iterrows()])\n",
    "table_data.extend([[\"Gender\", row['Gender'], f\"{row['LossRatio']:.2f}\"] \n",
    "                   for _, row in loss_ratio_by_gender.iterrows()])\n",
    "\n",
    "# Define headers for the table\n",
    "headers = [\"Category\", \"Value\", \"Loss Ratio\"]\n",
    "\n",
    "# Print tabulated output\n",
    "print(\"\\n=== Loss Ratios by Province, VehicleType, and Gender ===\")\n",
    "print(tabulate(table_data, headers=headers, tablefmt='grid'))\n",
    "# Display Loss Ratio by Gender\n",
    "print(\"\\n=== Loss Ratio by Gender ===\")\n",
    "print(loss_ratio_by_gender.to_string(index=False))"
   ]
  },
  {
   "cell_type": "code",
   "execution_count": 7,
   "id": "324e30f1",
   "metadata": {},
   "outputs": [
    {
     "name": "stdout",
     "output_type": "stream",
     "text": [
      "Loss Ratio By province\n",
      "===================================\n",
      "     Province  LossRatio\n",
      " Eastern Cape   0.633813\n",
      "   Free State   0.680758\n",
      "      Gauteng   1.222018\n",
      "KwaZulu-Natal   1.082693\n",
      "      Limpopo   0.661199\n",
      "   Mpumalanga   0.720897\n",
      "   North West   0.790367\n",
      "Northern Cape   0.282699\n",
      " Western Cape   1.059472\n",
      "Loss Ratio By Vehicle\n",
      "===================================\n",
      "      VehicleType  LossRatio\n",
      "              Bus   0.137292\n",
      " Heavy Commercial   1.628112\n",
      " Light Commercial   0.232066\n",
      "Medium Commercial   1.050251\n",
      "Passenger Vehicle   1.048198\n",
      "Loss Ratio By Gender\n",
      "===================================\n",
      "       Gender  LossRatio\n",
      "       Female   0.821879\n",
      "         Male   0.883910\n",
      "Not specified   1.059311\n"
     ]
    }
   ],
   "source": [
    "# Loss Ratio by province\n",
    "print(\"Loss Ratio By province\")\n",
    "print(\"===================================\")\n",
    "loss_ratio_by_province = df.groupby('Province').apply(\n",
    "    lambda x: x['TotalClaims'].sum() / x['TotalPremium'].sum() if x['TotalPremium'].sum() != 0 else 0,\n",
    "     include_groups=False\n",
    ").reset_index(name='LossRatio')\n",
    "print(loss_ratio_by_province.to_string(index=False))\n",
    "# Loss ratio by vehicle \n",
    "print(\"Loss Ratio By Vehicle\")\n",
    "print(\"===================================\")\n",
    "loss_ratio_by_vehicle = df.groupby('VehicleType').apply(\n",
    "    lambda x: x['TotalClaims'].sum() / x['TotalPremium'].sum() if x['TotalPremium'].sum() != 0 else 0,\n",
    "     include_groups=False\n",
    ").reset_index(name='LossRatio')\n",
    "print(loss_ratio_by_vehicle.to_string(index=False))\n",
    "print(\"Loss Ratio By Gender\")\n",
    "print(\"===================================\")\n",
    "loss_ratio_by_gender = df.groupby('Gender').apply(\n",
    "    lambda x: x['TotalClaims'].sum() / x['TotalPremium'].sum() if x['TotalPremium'].sum() != 0 else 0, \n",
    "    include_groups=False\n",
    ").reset_index(name='LossRatio')\n",
    "print(loss_ratio_by_gender.to_string(index=False))"
   ]
  },
  {
   "cell_type": "markdown",
   "id": "f48099c8",
   "metadata": {},
   "source": [
    "# 6. Univariant  Analysis\n",
    "-  Numerical feature distributions \n",
    "-  Categorical feature distributions"
   ]
  },
  {
   "cell_type": "code",
   "execution_count": null,
   "id": "b458da58",
   "metadata": {},
   "outputs": [
    {
     "ename": "NameError",
     "evalue": "name 'sns' is not defined",
     "output_type": "error",
     "traceback": [
      "\u001b[31m---------------------------------------------------------------------------\u001b[39m",
      "\u001b[31mNameError\u001b[39m                                 Traceback (most recent call last)",
      "\u001b[36mCell\u001b[39m\u001b[36m \u001b[39m\u001b[32mIn[8]\u001b[39m\u001b[32m, line 4\u001b[39m\n\u001b[32m      2\u001b[39m \u001b[38;5;28;01mfor\u001b[39;00m i, col \u001b[38;5;129;01min\u001b[39;00m \u001b[38;5;28menumerate\u001b[39m([\u001b[33m'\u001b[39m\u001b[33mTotalPremium\u001b[39m\u001b[33m'\u001b[39m, \u001b[33m'\u001b[39m\u001b[33mTotalClaims\u001b[39m\u001b[33m'\u001b[39m, \u001b[33m'\u001b[39m\u001b[33mCustomValueEstimate\u001b[39m\u001b[33m'\u001b[39m], \u001b[32m1\u001b[39m):\n\u001b[32m      3\u001b[39m     plt.subplot(\u001b[32m2\u001b[39m, \u001b[32m2\u001b[39m, i)\n\u001b[32m----> \u001b[39m\u001b[32m4\u001b[39m     \u001b[43msns\u001b[49m.histplot(df[col].dropna(), kde=\u001b[38;5;28;01mTrue\u001b[39;00m, bins=\u001b[32m30\u001b[39m)\n\u001b[32m      5\u001b[39m     plt.title(\u001b[33mf\u001b[39m\u001b[33m'\u001b[39m\u001b[33mDistribution of \u001b[39m\u001b[38;5;132;01m{\u001b[39;00mcol\u001b[38;5;132;01m}\u001b[39;00m\u001b[33m'\u001b[39m)\n\u001b[32m      6\u001b[39m plt.tight_layout()\n",
      "\u001b[31mNameError\u001b[39m: name 'sns' is not defined"
     ]
    },
    {
     "data": {
      "image/png": "[encoded data removed]",
      "text/plain": [
       "<Figure size 1200x800 with 1 Axes>"
      ]
     },
     "metadata": {},
     "output_type": "display_data"
    }
   ],
   "source": [
    "plt.figure(figsize=(12, 8))\n",
    "for i, col in enumerate(['TotalPremium', 'TotalClaims', 'CustomValueEstimate'], 1):\n",
    "    plt.subplot(2, 2, i)\n",
    "    sns.histplot(df[col].dropna(), kde=True, bins=30)\n",
    "    plt.title(f'Distribution of {col}')\n",
    "plt.tight_layout()\n",
    "plt.savefig('distributions.png')\n",
    "plt.close()"
   ]
  }
 ],
 "metadata": {
  "kernelspec": {
   "display_name": "Python 3",
   "language": "python",
   "name": "python3"
  },
  "language_info": {
   "codemirror_mode": {
    "name": "ipython",
    "version": 3
   },
   "file_extension": ".py",
   "mimetype": "text/x-python",
   "name": "python",
   "nbconvert_exporter": "python",
   "pygments_lexer": "ipython3",
   "version": "3.11.2"
  }
 },
 "nbformat": 4,
 "nbformat_minor": 5
}
